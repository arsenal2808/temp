{
 "cells": [
  {
   "cell_type": "markdown",
   "metadata": {},
   "source": [
    "# Lesson 1 Exercises"
   ]
  },
  {
   "cell_type": "markdown",
   "metadata": {},
   "source": [
    "## Exercise 1: swap variables\n",
    "\n",
    "1. Define two variables, `a` and `b`, storing the values `1` and `2`.\n",
    "2. Print `a` and `b`. \n",
    "3. Using a third variable `c`, swap the content of `a` and `b`. Check that after the swap `a == 2` and `b == 1`.\n",
    "4. Swap `a` and `b` in one line. \n",
    "5. Define a function `swap` that takes two arguments and returns the two in reverse order.\n",
    "6. Use the function `swap` to swap the content of `a` and `b`. After the swap `a == 2` and `b == 1`.\n"
   ]
  },
  {
   "cell_type": "code",
   "execution_count": null,
   "metadata": {},
   "outputs": [],
   "source": []
  },
  {
   "cell_type": "markdown",
   "metadata": {},
   "source": [
    "## Exercise 2: max\n",
    "\n",
    "1. Write a function `max2` that takes two arguments and returns the maximum of the two.\n",
    "2. Write a function `max3` that takes three arguments and returns the maximum. \n",
    "3. (need to know for loop for this) Write a function `max_list(l)` that returns the maximum element in the list `l`.\n",
    "4. *Advanced*: write a function that takes any number of arguments and returns the maximum.\n",
    "  "
   ]
  },
  {
   "cell_type": "code",
   "execution_count": null,
   "metadata": {},
   "outputs": [],
   "source": []
  },
  {
   "cell_type": "markdown",
   "metadata": {},
   "source": [
    "## Exercise 3: mean and standard deviation\n",
    "\n",
    "1. Write a function `mean(a, b, c)` that returns the mean of its arguments.\n",
    "2. Write a function `stddev(a, b, c)` that returns the standard deviation of its three\n",
    "   arguments. Make use of the function `mean` defined in the previous step inside `stddev`.\n",
    "   *Hint*: import the `math` library and use the `math.sqrt` function.\n"
   ]
  },
  {
   "cell_type": "code",
   "execution_count": null,
   "metadata": {},
   "outputs": [],
   "source": []
  }
 ],
 "metadata": {
  "kernelspec": {
   "display_name": "Python 3",
   "language": "python",
   "name": "python3"
  },
  "language_info": {
   "codemirror_mode": {
    "name": "ipython",
    "version": 3
   },
   "file_extension": ".py",
   "mimetype": "text/x-python",
   "name": "python",
   "nbconvert_exporter": "python",
   "pygments_lexer": "ipython3",
   "version": "3.8.5"
  }
 },
 "nbformat": 4,
 "nbformat_minor": 4
}
